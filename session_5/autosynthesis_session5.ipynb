{
 "cells": [
  {
   "cell_type": "markdown",
   "metadata": {},
   "source": [
    "<h1 align='center'>AutoSynthesis study group</h1>\n",
    "<h2 align='center'> Session 4 - Cross Validation </h2>\n",
    "<h3 align='right'> 26th April 2019 </h3>\n",
    "<h3 align='right'> Kazeem </h3>"
   ]
  },
  {
   "cell_type": "markdown",
   "metadata": {},
   "source": [
    "### Load libraries"
   ]
  },
  {
   "cell_type": "code",
   "execution_count": 1,
   "metadata": {},
   "outputs": [
    {
     "name": "stdout",
     "output_type": "stream",
     "text": [
      "Automatically created module for IPython interactive environment\n",
      "Packages import successful\n"
     ]
    }
   ],
   "source": [
    "from __future__ import print_function\n",
    "\n",
    "import logging\n",
    "print(__doc__)\n",
    "import pandas as pd\n",
    "import numpy as np\n",
    "from sklearn.feature_extraction.text import CountVectorizer, TfidfVectorizer\n",
    "from sklearn.preprocessing import LabelEncoder\n",
    "from sklearn.model_selection import train_test_split\n",
    "from sklearn.svm import SVC\n",
    "import numpy as np\n",
    "from sklearn.metrics import classification_report, confusion_matrix, precision_score, recall_score, f1_score, accuracy_score\n",
    "from sklearn.feature_selection import SelectKBest\n",
    "from sklearn.feature_selection import chi2\n",
    "from sklearn.naive_bayes import GaussianNB, ComplementNB, MultinomialNB, BernoulliNB\n",
    "from nltk.corpus import stopwords\n",
    "\n",
    "import matplotlib.pyplot as plt\n",
    "from sklearn.model_selection import learning_curve\n",
    "from sklearn.model_selection import ShuffleSplit\n",
    "from sklearn_evaluation import plot\n",
    "\n",
    "\n",
    "print ('Packages import successful')"
   ]
  },
  {
   "cell_type": "markdown",
   "metadata": {},
   "source": [
    "### Load your dataset"
   ]
  },
  {
   "cell_type": "code",
   "execution_count": 2,
   "metadata": {},
   "outputs": [
    {
     "name": "stdout",
     "output_type": "stream",
     "text": [
      "Dataset loaded successfully\n"
     ]
    }
   ],
   "source": [
    "data = pd.read_csv('autosynthesis_session3.csv') #set the data path relative to your system and file location\n",
    "print ('Dataset loaded successfully')\n",
    "data.head(5) #view some samples\n",
    "\n",
    "le = LabelEncoder()\n",
    "data['labels'] = le.fit_transform(data['label'])\n",
    "X = data[['Title', 'Abstract', 'Keywords']].apply(lambda x: '{} {} {}'.format(x[0], x[1], x[2]), axis=1)\n",
    "y = data['labels']"
   ]
  },
  {
   "cell_type": "markdown",
   "metadata": {},
   "source": [
    "### preprocessing"
   ]
  },
  {
   "cell_type": "code",
   "execution_count": 3,
   "metadata": {},
   "outputs": [],
   "source": [
    "#optionally write custom preprocessing method.....WHY?\n",
    "def preprocessor(text):\n",
    "    #text = text.apply(lambda x: ' '.join(x.lower().replace('[^\\w\\s]','') for x in str(x).split() if not x in set(stopwords.words('english')) and not x.isdigit()))\n",
    "    \n",
    "    # split into words\n",
    "    from nltk.tokenize import word_tokenize\n",
    "    tokens = word_tokenize(text)\n",
    "    # convert to lower case\n",
    "    tokens = [w.lower() for w in tokens]\n",
    "    # remove punctuation from each word\n",
    "    import string\n",
    "    table = str.maketrans('', '', string.punctuation)\n",
    "    stripped = [w.translate(table) for w in tokens]\n",
    "    # remove remaining tokens that are not alphabetic\n",
    "    words = [word for word in stripped if word.isalpha()]\n",
    "    # filter out stop words\n",
    "    #from nltk.corpus import stopwords\n",
    "    stop_words = set(stopwords.words('english'))\n",
    "    words = [w for w in words if not w in stop_words and len(w) > 3]\n",
    "    \n",
    "    return ' '.join(words) #return the cleaned text string separated by spaces"
   ]
  },
  {
   "cell_type": "markdown",
   "metadata": {},
   "source": [
    "#### Build model with cross validation"
   ]
  },
  {
   "cell_type": "code",
   "execution_count": 39,
   "metadata": {},
   "outputs": [
    {
     "name": "stdout",
     "output_type": "stream",
     "text": [
      "---------------USING TFIDF REPRESENTATION---------------\n",
      "---------------SVM PERFORMANCE-----------------\n",
      "SVM Mean Accuracy = 0.90 +/- 0.04\n",
      "SVM Mean Recall = 0.90 +/- 0.04\n",
      "SVM Mean Precision = 0.90 +/- 0.04\n",
      "\n",
      "\n",
      "--------------BNB PERFORMANCE-----------------\n",
      "SVM Mean Accuracy = 0.90 +/- 0.04\n",
      "SVM Mean Recall = 0.90 +/- 0.04\n",
      "SVM Mean Precision = 0.90 +/- 0.04\n"
     ]
    }
   ],
   "source": [
    "from sklearn.model_selection import StratifiedKFold\n",
    "\n",
    "skf = StratifiedKFold(n_splits = 10, shuffle=True, random_state=None)\n",
    "#skf = RepeatedStratifiedKFold(n_splits = 10, n_repeats=10, random_state=None)\n",
    "\n",
    "svm_recall = []\n",
    "svm_accuracy = []\n",
    "svm_precision = []\n",
    "bnb_recall = []\n",
    "bnb_accuracy = []\n",
    "bnb_precision = []\n",
    "\n",
    "svm_clf = SVC(C = 10, kernel = 'linear', class_weight=None, gamma = 'scale', random_state=None)\n",
    "bnb_clf = BernoulliNB()\n",
    "print(\"---------------USING TFIDF REPRESENTATION---------------\\n\")\n",
    "for train_index, test_index in skf.split(X, y):\n",
    "    #print(\"Train:\", train_index, \"Validation:\", test_index) \n",
    "    X_train, X_test = X[train_index], X[test_index] \n",
    "    y_train, y_test = y[train_index], y[test_index]\n",
    "    \n",
    "    #preprocess\n",
    "    X_train = X_train.apply(lambda x: preprocessor(x))\n",
    "    X_test = X_test.apply(lambda x: preprocessor(x))\n",
    "    \n",
    "    #feature representation\n",
    "    tfidf_encoder = TfidfVectorizer(stop_words='english', max_df=0.8, min_df=3, ngram_range=(1, 1))\n",
    "    X_train = tfidf_encoder.fit_transform(X_train)\n",
    "    X_test = tfidf_encoder.transform(X_test)\n",
    "    \n",
    "    #select features\n",
    "    bestfeatures = SelectKBest(score_func=chi2, k=500)\n",
    "    X_train = bestfeatures.fit_transform(X_train,y_train)\n",
    "    X_test = bestfeatures.transform(X_test)\n",
    "    \n",
    "    svm_model = clf.fit(X_train, y_train)\n",
    "    svm_predictions = svm_model.predict(X_test)\n",
    "    \n",
    "    svm_recall.append(recall_score(y_test, svm_predictions, average= 'micro'))\n",
    "    svm_accuracy.append(accuracy_score(y_test, svm_predictions))\n",
    "    svm_precision.append(precision_score(y_test, svm_predictions, average= 'micro'))\n",
    "    \n",
    "\n",
    "    \n",
    "    ##Bernoulli\n",
    "    bnb_model = bnb_clf.fit(X_train.toarray(), y_train)\n",
    "    bnb_predictions = bnb_model.predict(X_test.toarray())\n",
    "    \n",
    "    bnb_recall.append(recall_score(y_test, svm_predictions, average= 'micro'))\n",
    "    bnb_accuracy.append(accuracy_score(y_test, svm_predictions))\n",
    "    bnb_precision.append(precision_score(y_test, svm_predictions, average= 'micro'))\n",
    "    \n",
    "print(\"---------------SVM PERFORMANCE-----------------\")\n",
    "print(f'SVM Mean Accuracy = {np.mean(svm_accuracy):.2f} +/- {np.std(svm_accuracy):.2f}')\n",
    "print(f\"SVM Mean Recall = {np.mean(svm_recall):.2f} +/- {np.std(svm_recall):.2f}\")\n",
    "print(f'SVM Mean Precision = {np.mean(svm_precision):.2f} +/- {np.std(svm_precision):.2f}')\n",
    "    \n",
    "print(\"\\n\")\n",
    "print(\"--------------BNB PERFORMANCE-----------------\")\n",
    "print(f'SVM Mean Accuracy = {np.mean(bnb_accuracy):.2f} +/- {np.std(bnb_accuracy):.2f}')\n",
    "print(f\"SVM Mean Recall = {np.mean(bnb_recall):.2f} +/- {np.std(bnb_recall):.2f}\")\n",
    "print(f'SVM Mean Precision = {np.mean(bnb_precision):.2f} +/- {np.std(bnb_precision):.2f}')"
   ]
  },
  {
   "cell_type": "code",
   "execution_count": 43,
   "metadata": {},
   "outputs": [
    {
     "name": "stdout",
     "output_type": "stream",
     "text": [
      "-----------------USING BINARY REPRESENTATION---------------\n",
      "\n",
      "---------------SVM PERFORMANCE-----------------\n",
      "SVM Mean Accuracy = 0.90 +/- 0.03\n",
      "SVM Mean Recall = 0.90 +/- 0.03\n",
      "SVM Mean Precision = 0.90 +/- 0.03\n",
      "\n",
      "\n",
      "---------------BNB PERFORMANCE-----------------\n",
      "SVM Mean Accuracy = 0.90 +/- 0.03\n",
      "SVM Mean Recall = 0.90 +/- 0.03\n",
      "SVM Mean Precision = 0.90 +/- 0.03\n"
     ]
    }
   ],
   "source": [
    "from sklearn.model_selection import StratifiedKFold\n",
    "from sklearn.model_selection import RepeatedStratifiedKFold\n",
    "\n",
    "skf = StratifiedKFold(n_splits = 10, shuffle=True, random_state=None)\n",
    "#skf = RepeatedStratifiedKFold(n_splits = 10, n_repeats=10, random_state=None)\n",
    "\n",
    "svm_recall = []\n",
    "svm_accuracy = []\n",
    "svm_precision = []\n",
    "bnb_recall = []\n",
    "bnb_accuracy = []\n",
    "bnb_precision = []\n",
    "\n",
    "svm_clf = SVC(C = 10, kernel = 'linear', class_weight=None, gamma = 'scale', random_state=None)\n",
    "bnb_clf = BernoulliNB()\n",
    "print(\"-----------------USING BINARY REPRESENTATION---------------\\n\")\n",
    "for train_index, test_index in skf.split(X, y):\n",
    "    #print(\"Train:\", train_index, \"Validation:\", test_index) \n",
    "    X_train, X_test = X[train_index], X[test_index] \n",
    "    y_train, y_test = y[train_index], y[test_index]\n",
    "    \n",
    "    #preprocess\n",
    "    X_train = X_train.apply(lambda x: preprocessor(x))\n",
    "    X_test = X_test.apply(lambda x: preprocessor(x))\n",
    "    \n",
    "    #feature representation\n",
    "    binary_encoder = TfidfVectorizer(stop_words='english', binary = True, max_df=0.8, min_df=3, ngram_range=(1, 1))\n",
    "    X_train = binary_encoder.fit_transform(X_train)\n",
    "    X_test = binary_encoder.transform(X_test)\n",
    "    \n",
    "    #select features\n",
    "    bestfeatures = SelectKBest(score_func=chi2, k=500)\n",
    "    X_train = bestfeatures.fit_transform(X_train,y_train)\n",
    "    X_test = bestfeatures.transform(X_test)\n",
    "    \n",
    "    svm_model = clf.fit(X_train, y_train)\n",
    "    svm_predictions = svm_model.predict(X_test)\n",
    "    \n",
    "    svm_recall.append(recall_score(y_test, svm_predictions, average= 'micro'))\n",
    "    svm_accuracy.append(accuracy_score(y_test, svm_predictions))\n",
    "    svm_precision.append(precision_score(y_test, svm_predictions, average= 'micro'))\n",
    "    \n",
    "\n",
    "    \n",
    "    ##Bernoulli\n",
    "    bnb_model = bnb_clf.fit(X_train.toarray(), y_train)\n",
    "    bnb_predictions = bnb_model.predict(X_test.toarray())\n",
    "    \n",
    "    bnb_recall.append(recall_score(y_test, svm_predictions, average= 'micro'))\n",
    "    bnb_accuracy.append(accuracy_score(y_test, svm_predictions))\n",
    "    bnb_precision.append(precision_score(y_test, svm_predictions, average= 'micro'))\n",
    "    \n",
    "print(\"---------------SVM PERFORMANCE-----------------\")\n",
    "print(f'SVM Mean Accuracy = {np.mean(svm_accuracy):.2f} +/- {np.std(svm_accuracy):.2f}')\n",
    "print(f\"SVM Mean Recall = {np.mean(svm_recall):.2f} +/- {np.std(svm_recall):.2f}\")\n",
    "print(f'SVM Mean Precision = {np.mean(svm_precision):.2f} +/- {np.std(svm_precision):.2f}')\n",
    "    \n",
    "print(\"\\n\")\n",
    "print(\"---------------BNB PERFORMANCE-----------------\")\n",
    "print(f'SVM Mean Accuracy = {np.mean(bnb_accuracy):.2f} +/- {np.std(bnb_accuracy):.2f}')\n",
    "print(f\"SVM Mean Recall = {np.mean(bnb_recall):.2f} +/- {np.std(bnb_recall):.2f}\")\n",
    "print(f'SVM Mean Precision = {np.mean(bnb_precision):.2f} +/- {np.std(bnb_precision):.2f}')"
   ]
  },
  {
   "cell_type": "code",
   "execution_count": null,
   "metadata": {},
   "outputs": [],
   "source": []
  }
 ],
 "metadata": {
  "kernelspec": {
   "display_name": "Python 3",
   "language": "python",
   "name": "python3"
  },
  "language_info": {
   "codemirror_mode": {
    "name": "ipython",
    "version": 3
   },
   "file_extension": ".py",
   "mimetype": "text/x-python",
   "name": "python",
   "nbconvert_exporter": "python",
   "pygments_lexer": "ipython3",
   "version": "3.7.1"
  }
 },
 "nbformat": 4,
 "nbformat_minor": 2
}
